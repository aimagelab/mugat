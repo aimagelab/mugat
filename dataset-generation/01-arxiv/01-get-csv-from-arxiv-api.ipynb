{
 "cells": [
  {
   "cell_type": "code",
   "execution_count": 3,
   "metadata": {},
   "outputs": [],
   "source": [
    "import feedparser"
   ]
  },
  {
   "cell_type": "markdown",
   "metadata": {},
   "source": [
    "# arXiv API query and RSS parsing"
   ]
  },
  {
   "cell_type": "code",
   "execution_count": 43,
   "metadata": {},
   "outputs": [],
   "source": [
    "max_results = 1000\n",
    "start = 2000\n",
    "\n",
    "url = f\"http://export.arxiv.org/api/query?search_query=all&max_results={max_results}&start={start}&sortBy=submittedDate&sortOrder=descending\"\n",
    "\n",
    "feed = feedparser.parse(url)"
   ]
  },
  {
   "cell_type": "markdown",
   "metadata": {},
   "source": [
    "# Parsed feed check\n",
    "\n",
    "sometimes the API doesn't return any papers, or much fewer papers than requested, so always check\n"
   ]
  },
  {
   "cell_type": "code",
   "execution_count": 44,
   "metadata": {},
   "outputs": [
    {
     "name": "stdout",
     "output_type": "stream",
     "text": [
      "0\n"
     ]
    }
   ],
   "source": [
    "print(len(feed.entries))"
   ]
  },
  {
   "cell_type": "code",
   "execution_count": 11,
   "metadata": {},
   "outputs": [
    {
     "name": "stdout",
     "output_type": "stream",
     "text": [
      "[{'id': 'http://arxiv.org/abs/2406.16867v1', 'guidislink': True, 'link': 'http://arxiv.org/abs/2406.16867v1', 'updated': '2024-06-24T17:59:59Z', 'updated_parsed': time.struct_time(tm_year=2024, tm_mon=6, tm_mday=24, tm_hour=17, tm_min=59, tm_sec=59, tm_wday=0, tm_yday=176, tm_isdst=0), 'published': '2024-06-24T17:59:59Z', 'published_parsed': time.struct_time(tm_year=2024, tm_mon=6, tm_mday=24, tm_hour=17, tm_min=59, tm_sec=59, tm_wday=0, tm_yday=176, tm_isdst=0), 'title': 'Normalization of ZZ instanton amplitudes in type 0B minimal superstring\\n  theory', 'title_detail': {'type': 'text/plain', 'language': None, 'base': 'http://export.arxiv.org/api/query?search_query=all&max_results=2000&start=0&sortBy=submittedDate&sortOrder=descending', 'value': 'Normalization of ZZ instanton amplitudes in type 0B minimal superstring\\n  theory'}, 'summary': 'We study ZZ instanton corrections in the $(2,4k)$ $N=1$ minimal superstring\\ntheory with the type 0B GSO projection, which becomes the type 0B $N=1$\\nsuper-JT gravity in the $k \\\\to \\\\infty$ limit. Each member of the $(2,4k)$\\nfamily of theories has two phases distinguished by the sign of the Liouville\\nbulk cosmological constant. The worldsheet method for computing the one-loop\\nnormalization constant multiplying the instanton corrections gives an\\nill-defined answer in both phases. We fix these divergences using insights from\\nstring field theory and find finite, unambiguous results. Each member of the\\n$(2,4k)$ family of theories is dual to a double-scaled one-matrix integral,\\nwhere the double-scaling limit can be obtained starting either from a unitary\\nmatrix integral with a leading one-cut saddle point, or from a hermitian matrix\\nintegral with a leading two-cut saddle point. The matrix integral exhibits a\\ngap-closing transition, which is the same as the double-scaled\\nGross-Witten-Wadia transition when $k=1$. We also compute instanton corrections\\nin the double-scaled matrix integral for all $k$ and in both phases, and find\\nperfect agreement with the string theory results.', 'summary_detail': {'type': 'text/plain', 'language': None, 'base': 'http://export.arxiv.org/api/query?search_query=all&max_results=2000&start=0&sortBy=submittedDate&sortOrder=descending', 'value': 'We study ZZ instanton corrections in the $(2,4k)$ $N=1$ minimal superstring\\ntheory with the type 0B GSO projection, which becomes the type 0B $N=1$\\nsuper-JT gravity in the $k \\\\to \\\\infty$ limit. Each member of the $(2,4k)$\\nfamily of theories has two phases distinguished by the sign of the Liouville\\nbulk cosmological constant. The worldsheet method for computing the one-loop\\nnormalization constant multiplying the instanton corrections gives an\\nill-defined answer in both phases. We fix these divergences using insights from\\nstring field theory and find finite, unambiguous results. Each member of the\\n$(2,4k)$ family of theories is dual to a double-scaled one-matrix integral,\\nwhere the double-scaling limit can be obtained starting either from a unitary\\nmatrix integral with a leading one-cut saddle point, or from a hermitian matrix\\nintegral with a leading two-cut saddle point. The matrix integral exhibits a\\ngap-closing transition, which is the same as the double-scaled\\nGross-Witten-Wadia transition when $k=1$. We also compute instanton corrections\\nin the double-scaled matrix integral for all $k$ and in both phases, and find\\nperfect agreement with the string theory results.'}, 'authors': [{'name': 'Vivek Chakrabhavi'}, {'name': 'Dan Stefan Eniceicu'}, {'name': 'Raghu Mahajan'}, {'name': 'Chitraang Murdia'}], 'author_detail': {'name': 'Chitraang Murdia'}, 'author': 'Chitraang Murdia', 'arxiv_comment': '27 pages of main text + 27 pages of appendices + references', 'links': [{'href': 'http://arxiv.org/abs/2406.16867v1', 'rel': 'alternate', 'type': 'text/html'}, {'title': 'pdf', 'href': 'http://arxiv.org/pdf/2406.16867v1', 'rel': 'related', 'type': 'application/pdf'}], 'arxiv_primary_category': {'term': 'hep-th', 'scheme': 'http://arxiv.org/schemas/atom'}, 'tags': [{'term': 'hep-th', 'scheme': 'http://arxiv.org/schemas/atom', 'label': None}]}, {'id': 'http://arxiv.org/abs/2406.16859v1', 'guidislink': True, 'link': 'http://arxiv.org/abs/2406.16859v1', 'updated': '2024-06-24T17:59:33Z', 'updated_parsed': time.struct_time(tm_year=2024, tm_mon=6, tm_mday=24, tm_hour=17, tm_min=59, tm_sec=33, tm_wday=0, tm_yday=176, tm_isdst=0), 'published': '2024-06-24T17:59:33Z', 'published_parsed': time.struct_time(tm_year=2024, tm_mon=6, tm_mday=24, tm_hour=17, tm_min=59, tm_sec=33, tm_wday=0, tm_yday=176, tm_isdst=0), 'title': 'On the extensions of the Chatterjee-Spearman test', 'title_detail': {'type': 'text/plain', 'language': None, 'base': 'http://export.arxiv.org/api/query?search_query=all&max_results=2000&start=0&sortBy=submittedDate&sortOrder=descending', 'value': 'On the extensions of the Chatterjee-Spearman test'}, 'summary': \"Chatterjee (2021) introduced a novel independence test that is rank-based,\\nasymptotically normal and consistent against all alternatives. One limitation\\nof Chatterjee's test is its low statistical power for detecting monotonic\\nrelationships. To address this limitation, in our previous work (Zhang, 2024,\\nCommun. Stat. - Theory Methods), we proposed to combine Chatterjee's and\\nSpearman's correlations into a max-type test and established the asymptotic\\njoint normality. This work examines three key extensions of the combined test.\\nFirst, motivated by its original asymmetric form, we extend the\\nChatterjee-Spearman test to a symmetric version, and derive the asymptotic null\\ndistribution of the symmetrized statistic. Second, we investigate the\\nrelationships between Chatterjee's correlation and other popular rank\\ncorrelations, including Kendall's tau and quadrant correlation. We demonstrate\\nthat, under independence, Chatterjee's correlation and any of these rank\\ncorrelations are asymptotically joint normal and independent. Simulation\\nstudies demonstrate that the Chatterjee-Kendall test has better power than the\\nChatterjee-Spearman test. Finally, we explore two possible extensions to the\\nmultivariate case. These extensions expand the applicability of the rank-based\\ncombined tests to a broader range of scenarios.\", 'summary_detail': {'type': 'text/plain', 'language': None, 'base': 'http://export.arxiv.org/api/query?search_query=all&max_results=2000&start=0&sortBy=submittedDate&sortOrder=descending', 'value': \"Chatterjee (2021) introduced a novel independence test that is rank-based,\\nasymptotically normal and consistent against all alternatives. One limitation\\nof Chatterjee's test is its low statistical power for detecting monotonic\\nrelationships. To address this limitation, in our previous work (Zhang, 2024,\\nCommun. Stat. - Theory Methods), we proposed to combine Chatterjee's and\\nSpearman's correlations into a max-type test and established the asymptotic\\njoint normality. This work examines three key extensions of the combined test.\\nFirst, motivated by its original asymmetric form, we extend the\\nChatterjee-Spearman test to a symmetric version, and derive the asymptotic null\\ndistribution of the symmetrized statistic. Second, we investigate the\\nrelationships between Chatterjee's correlation and other popular rank\\ncorrelations, including Kendall's tau and quadrant correlation. We demonstrate\\nthat, under independence, Chatterjee's correlation and any of these rank\\ncorrelations are asymptotically joint normal and independent. Simulation\\nstudies demonstrate that the Chatterjee-Kendall test has better power than the\\nChatterjee-Spearman test. Finally, we explore two possible extensions to the\\nmultivariate case. These extensions expand the applicability of the rank-based\\ncombined tests to a broader range of scenarios.\"}, 'authors': [{'name': 'Qingyang Zhang'}], 'author_detail': {'name': 'Qingyang Zhang'}, 'author': 'Qingyang Zhang', 'arxiv_comment': '35 pages, 2 figures', 'links': [{'href': 'http://arxiv.org/abs/2406.16859v1', 'rel': 'alternate', 'type': 'text/html'}, {'title': 'pdf', 'href': 'http://arxiv.org/pdf/2406.16859v1', 'rel': 'related', 'type': 'application/pdf'}], 'arxiv_primary_category': {'term': 'stat.ME', 'scheme': 'http://arxiv.org/schemas/atom'}, 'tags': [{'term': 'stat.ME', 'scheme': 'http://arxiv.org/schemas/atom', 'label': None}]}, {'id': 'http://arxiv.org/abs/2406.16853v1', 'guidislink': True, 'link': 'http://arxiv.org/abs/2406.16853v1', 'updated': '2024-06-24T17:58:13Z', 'updated_parsed': time.struct_time(tm_year=2024, tm_mon=6, tm_mday=24, tm_hour=17, tm_min=58, tm_sec=13, tm_wday=0, tm_yday=176, tm_isdst=0), 'published': '2024-06-24T17:58:13Z', 'published_parsed': time.struct_time(tm_year=2024, tm_mon=6, tm_mday=24, tm_hour=17, tm_min=58, tm_sec=13, tm_wday=0, tm_yday=176, tm_isdst=0), 'title': 'GeoMFormer: A General Architecture for Geometric Molecular\\n  Representation Learning', 'title_detail': {'type': 'text/plain', 'language': None, 'base': 'http://export.arxiv.org/api/query?search_query=all&max_results=2000&start=0&sortBy=submittedDate&sortOrder=descending', 'value': 'GeoMFormer: A General Architecture for Geometric Molecular\\n  Representation Learning'}, 'summary': 'Molecular modeling, a central topic in quantum mechanics, aims to accurately\\ncalculate the properties and simulate the behaviors of molecular systems. The\\nmolecular model is governed by physical laws, which impose geometric\\nconstraints such as invariance and equivariance to coordinate rotation and\\ntranslation. While numerous deep learning approaches have been developed to\\nlearn molecular representations under these constraints, most of them are built\\nupon heuristic and costly modules. We argue that there is a strong need for a\\ngeneral and flexible framework for learning both invariant and equivariant\\nfeatures. In this work, we introduce a novel Transformer-based molecular model\\ncalled GeoMFormer to achieve this goal. Using the standard Transformer modules,\\ntwo separate streams are developed to maintain and learn invariant and\\nequivariant representations. Carefully designed cross-attention modules bridge\\nthe two streams, allowing information fusion and enhancing geometric modeling\\nin each stream. As a general and flexible architecture, we show that many\\nprevious architectures can be viewed as special instantiations of GeoMFormer.\\nExtensive experiments are conducted to demonstrate the power of GeoMFormer. All\\nempirical results show that GeoMFormer achieves strong performance on both\\ninvariant and equivariant tasks of different types and scales. Code and models\\nwill be made publicly available at https://github.com/c-tl/GeoMFormer.', 'summary_detail': {'type': 'text/plain', 'language': None, 'base': 'http://export.arxiv.org/api/query?search_query=all&max_results=2000&start=0&sortBy=submittedDate&sortOrder=descending', 'value': 'Molecular modeling, a central topic in quantum mechanics, aims to accurately\\ncalculate the properties and simulate the behaviors of molecular systems. The\\nmolecular model is governed by physical laws, which impose geometric\\nconstraints such as invariance and equivariance to coordinate rotation and\\ntranslation. While numerous deep learning approaches have been developed to\\nlearn molecular representations under these constraints, most of them are built\\nupon heuristic and costly modules. We argue that there is a strong need for a\\ngeneral and flexible framework for learning both invariant and equivariant\\nfeatures. In this work, we introduce a novel Transformer-based molecular model\\ncalled GeoMFormer to achieve this goal. Using the standard Transformer modules,\\ntwo separate streams are developed to maintain and learn invariant and\\nequivariant representations. Carefully designed cross-attention modules bridge\\nthe two streams, allowing information fusion and enhancing geometric modeling\\nin each stream. As a general and flexible architecture, we show that many\\nprevious architectures can be viewed as special instantiations of GeoMFormer.\\nExtensive experiments are conducted to demonstrate the power of GeoMFormer. All\\nempirical results show that GeoMFormer achieves strong performance on both\\ninvariant and equivariant tasks of different types and scales. Code and models\\nwill be made publicly available at https://github.com/c-tl/GeoMFormer.'}, 'authors': [{'name': 'Tianlang Chen'}, {'name': 'Shengjie Luo'}, {'name': 'Di He'}, {'name': 'Shuxin Zheng'}, {'name': 'Tie-Yan Liu'}, {'name': 'Liwei Wang'}], 'author_detail': {'name': 'Liwei Wang'}, 'author': 'Liwei Wang', 'arxiv_comment': '25 pages, 13 tables, l figure; ICML 2024 camera ready version', 'links': [{'href': 'http://arxiv.org/abs/2406.16853v1', 'rel': 'alternate', 'type': 'text/html'}, {'title': 'pdf', 'href': 'http://arxiv.org/pdf/2406.16853v1', 'rel': 'related', 'type': 'application/pdf'}], 'arxiv_primary_category': {'term': 'cs.LG', 'scheme': 'http://arxiv.org/schemas/atom'}, 'tags': [{'term': 'cs.LG', 'scheme': 'http://arxiv.org/schemas/atom', 'label': None}, {'term': 'cond-mat.mtrl-sci', 'scheme': 'http://arxiv.org/schemas/atom', 'label': None}, {'term': 'cs.AI', 'scheme': 'http://arxiv.org/schemas/atom', 'label': None}, {'term': 'q-bio.BM', 'scheme': 'http://arxiv.org/schemas/atom', 'label': None}]}, {'id': 'http://arxiv.org/abs/2406.16832v1', 'guidislink': True, 'link': 'http://arxiv.org/abs/2406.16832v1', 'updated': '2024-06-24T17:41:37Z', 'updated_parsed': time.struct_time(tm_year=2024, tm_mon=6, tm_mday=24, tm_hour=17, tm_min=41, tm_sec=37, tm_wday=0, tm_yday=176, tm_isdst=0), 'published': '2024-06-24T17:41:37Z', 'published_parsed': time.struct_time(tm_year=2024, tm_mon=6, tm_mday=24, tm_hour=17, tm_min=41, tm_sec=37, tm_wday=0, tm_yday=176, tm_isdst=0), 'title': 'Numerical methods for eigenvalues of singular polynomial eigenvalue\\n  problems', 'title_detail': {'type': 'text/plain', 'language': None, 'base': 'http://export.arxiv.org/api/query?search_query=all&max_results=2000&start=0&sortBy=submittedDate&sortOrder=descending', 'value': 'Numerical methods for eigenvalues of singular polynomial eigenvalue\\n  problems'}, 'summary': 'Recently, three numerical methods for the computation of eigenvalues of\\nsingular matrix pencils, based on a rank-completing perturbation, a\\nrank-projection, or an augmentation were developed. We show that all three\\napproaches can be generalized to treat singular polynomial eigenvalue problems.\\nThe common denominator of all three approaches is a transformation of a\\nsingular into a regular matrix polynomial whose eigenvalues are a disjoint\\nunion of the eigenvalues of the singular polynomial, called true eigenvalues,\\nand additional fake eigenvalues. The true eigenvalues can then be separated\\nfrom the fake eigenvalues using information on the corresponding left and right\\neigenvectors. We illustrate the approaches on several interesting applications,\\nincluding bivariate polynomial systems and ZGV points.', 'summary_detail': {'type': 'text/plain', 'language': None, 'base': 'http://export.arxiv.org/api/query?search_query=all&max_results=2000&start=0&sortBy=submittedDate&sortOrder=descending', 'value': 'Recently, three numerical methods for the computation of eigenvalues of\\nsingular matrix pencils, based on a rank-completing perturbation, a\\nrank-projection, or an augmentation were developed. We show that all three\\napproaches can be generalized to treat singular polynomial eigenvalue problems.\\nThe common denominator of all three approaches is a transformation of a\\nsingular into a regular matrix polynomial whose eigenvalues are a disjoint\\nunion of the eigenvalues of the singular polynomial, called true eigenvalues,\\nand additional fake eigenvalues. The true eigenvalues can then be separated\\nfrom the fake eigenvalues using information on the corresponding left and right\\neigenvectors. We illustrate the approaches on several interesting applications,\\nincluding bivariate polynomial systems and ZGV points.'}, 'authors': [{'name': 'Michiel E. Hochstenbach'}, {'name': 'Christian Mehl'}, {'name': 'Bor Plestenjak'}], 'author_detail': {'name': 'Bor Plestenjak'}, 'author': 'Bor Plestenjak', 'links': [{'href': 'http://arxiv.org/abs/2406.16832v1', 'rel': 'alternate', 'type': 'text/html'}, {'title': 'pdf', 'href': 'http://arxiv.org/pdf/2406.16832v1', 'rel': 'related', 'type': 'application/pdf'}], 'arxiv_primary_category': {'term': 'math.NA', 'scheme': 'http://arxiv.org/schemas/atom'}, 'tags': [{'term': 'math.NA', 'scheme': 'http://arxiv.org/schemas/atom', 'label': None}, {'term': 'cs.NA', 'scheme': 'http://arxiv.org/schemas/atom', 'label': None}, {'term': '65F15, 15A18, 15A22, 47A55, 65F22', 'scheme': 'http://arxiv.org/schemas/atom', 'label': None}]}, {'id': 'http://arxiv.org/abs/2406.16820v1', 'guidislink': True, 'link': 'http://arxiv.org/abs/2406.16820v1', 'updated': '2024-06-24T17:31:31Z', 'updated_parsed': time.struct_time(tm_year=2024, tm_mon=6, tm_mday=24, tm_hour=17, tm_min=31, tm_sec=31, tm_wday=0, tm_yday=176, tm_isdst=0), 'published': '2024-06-24T17:31:31Z', 'published_parsed': time.struct_time(tm_year=2024, tm_mon=6, tm_mday=24, tm_hour=17, tm_min=31, tm_sec=31, tm_wday=0, tm_yday=176, tm_isdst=0), 'title': 'EFECT -- A Method and Metric to Assess the Reproducibility of Stochastic\\n  Simulation Studies', 'title_detail': {'type': 'text/plain', 'language': None, 'base': 'http://export.arxiv.org/api/query?search_query=all&max_results=2000&start=0&sortBy=submittedDate&sortOrder=descending', 'value': 'EFECT -- A Method and Metric to Assess the Reproducibility of Stochastic\\n  Simulation Studies'}, 'summary': \"Reproducibility is a foundational standard for validating scientific claims\\nin computational research. Stochastic computational models are employed across\\ndiverse fields such as systems biology, financial modelling and environmental\\nsciences. Existing infrastructure and software tools support various aspects of\\nreproducible model development, application, and dissemination, but do not\\nadequately address independently reproducing simulation results that form the\\nbasis of scientific conclusions. To bridge this gap, we introduce the Empirical\\nCharacteristic Function Equality Convergence Test (EFECT), a data-driven method\\nto quantify the reproducibility of stochastic simulation results. EFECT employs\\nempirical characteristic functions to compare reported results with those\\nindependently generated by assessing distributional inequality, termed EFECT\\nerror, a metric to quantify the likelihood of equality. Additionally, we\\nestablish the EFECT convergence point, a metric for determining the required\\nnumber of simulation runs to achieve an EFECT error value of a priori\\nstatistical significance, setting a reproducibility benchmark. EFECT supports\\nall real-valued and bounded results irrespective of the model or method that\\nproduced them, and accommodates stochasticity from intrinsic model variability\\nand random sampling of model inputs. We tested EFECT with stochastic\\ndifferential equations, agent-based models, and Boolean networks, demonstrating\\nits broad applicability and effectiveness. EFECT standardizes stochastic\\nsimulation reproducibility, establishing a workflow that guarantees reliable\\nresults, supporting a wide range of stakeholders, and thereby enhancing\\nvalidation of stochastic simulation studies, across a model's lifecycle. To\\npromote future standardization efforts, we are developing open source software\\nlibrary libSSR in diverse programming languages for easy integration of EFECT.\", 'summary_detail': {'type': 'text/plain', 'language': None, 'base': 'http://export.arxiv.org/api/query?search_query=all&max_results=2000&start=0&sortBy=submittedDate&sortOrder=descending', 'value': \"Reproducibility is a foundational standard for validating scientific claims\\nin computational research. Stochastic computational models are employed across\\ndiverse fields such as systems biology, financial modelling and environmental\\nsciences. Existing infrastructure and software tools support various aspects of\\nreproducible model development, application, and dissemination, but do not\\nadequately address independently reproducing simulation results that form the\\nbasis of scientific conclusions. To bridge this gap, we introduce the Empirical\\nCharacteristic Function Equality Convergence Test (EFECT), a data-driven method\\nto quantify the reproducibility of stochastic simulation results. EFECT employs\\nempirical characteristic functions to compare reported results with those\\nindependently generated by assessing distributional inequality, termed EFECT\\nerror, a metric to quantify the likelihood of equality. Additionally, we\\nestablish the EFECT convergence point, a metric for determining the required\\nnumber of simulation runs to achieve an EFECT error value of a priori\\nstatistical significance, setting a reproducibility benchmark. EFECT supports\\nall real-valued and bounded results irrespective of the model or method that\\nproduced them, and accommodates stochasticity from intrinsic model variability\\nand random sampling of model inputs. We tested EFECT with stochastic\\ndifferential equations, agent-based models, and Boolean networks, demonstrating\\nits broad applicability and effectiveness. EFECT standardizes stochastic\\nsimulation reproducibility, establishing a workflow that guarantees reliable\\nresults, supporting a wide range of stakeholders, and thereby enhancing\\nvalidation of stochastic simulation studies, across a model's lifecycle. To\\npromote future standardization efforts, we are developing open source software\\nlibrary libSSR in diverse programming languages for easy integration of EFECT.\"}, 'authors': [{'name': 'T. J. Sego'}, {'name': 'Matthias König'}, {'name': 'Luis L. Fonseca'}, {'name': 'Baylor Fain'}, {'name': 'Adam C. Knapp'}, {'name': 'Krishna Tiwari'}, {'name': 'Henning Hermjakob'}, {'name': 'Herbert M. Sauro'}, {'name': 'James A. Glazier'}, {'name': 'Reinhard C. Laubenbacher'}, {'name': 'Rahuman S. Malik-Sheriff'}], 'author_detail': {'name': 'Rahuman S. Malik-Sheriff'}, 'author': 'Rahuman S. Malik-Sheriff', 'arxiv_comment': '25 pages, 4 figures', 'links': [{'href': 'http://arxiv.org/abs/2406.16820v1', 'rel': 'alternate', 'type': 'text/html'}, {'title': 'pdf', 'href': 'http://arxiv.org/pdf/2406.16820v1', 'rel': 'related', 'type': 'application/pdf'}], 'arxiv_primary_category': {'term': 'stat.ME', 'scheme': 'http://arxiv.org/schemas/atom'}, 'tags': [{'term': 'stat.ME', 'scheme': 'http://arxiv.org/schemas/atom', 'label': None}]}, {'id': 'http://arxiv.org/abs/2406.16806v1', 'guidislink': True, 'link': 'http://arxiv.org/abs/2406.16806v1', 'updated': '2024-06-24T17:18:32Z', 'updated_parsed': time.struct_time(tm_year=2024, tm_mon=6, tm_mday=24, tm_hour=17, tm_min=18, tm_sec=32, tm_wday=0, tm_yday=176, tm_isdst=0), 'published': '2024-06-24T17:18:32Z', 'published_parsed': time.struct_time(tm_year=2024, tm_mon=6, tm_mday=24, tm_hour=17, tm_min=18, tm_sec=32, tm_wday=0, tm_yday=176, tm_isdst=0), 'title': 'Rigidity of operator systems: tight extensions and noncommutative\\n  measurable structures', 'title_detail': {'type': 'text/plain', 'language': None, 'base': 'http://export.arxiv.org/api/query?search_query=all&max_results=2000&start=0&sortBy=submittedDate&sortOrder=descending', 'value': 'Rigidity of operator systems: tight extensions and noncommutative\\n  measurable structures'}, 'summary': 'Let $A$ be a unital $C^*$-algebra generated by some separable operator system\\n$S$. More than a decade ago, Arveson conjectured that $S$ is hyperrigid in $A$\\nif all irreducible representations of $A$ are boundary representations for $S$.\\nRecently, a counterexample to the conjecture was found by Bilich and Dor-On. To\\ncircumvent the difficulties hidden in this counterexample, we exploit some of\\nPedersen\\'s seminal ideas on noncommutative measurable structures and establish\\nan amended version of Arveson\\'s conjecture. More precisely, we show that all\\nirreducible representations of $A$ are boundary representations for $S$\\nprecisely when all representations of $A$ admit a unique \"tight\" completely\\npositive extension from $S$. In addition, we prove an equivalence between\\nuniqueness of such tight extensions and rigidity of completely positive\\napproximations for representations of nuclear $C^*$-algebras, thereby extending\\nthe classical principle of Korovkin--Saskin for commutative algebras.', 'summary_detail': {'type': 'text/plain', 'language': None, 'base': 'http://export.arxiv.org/api/query?search_query=all&max_results=2000&start=0&sortBy=submittedDate&sortOrder=descending', 'value': 'Let $A$ be a unital $C^*$-algebra generated by some separable operator system\\n$S$. More than a decade ago, Arveson conjectured that $S$ is hyperrigid in $A$\\nif all irreducible representations of $A$ are boundary representations for $S$.\\nRecently, a counterexample to the conjecture was found by Bilich and Dor-On. To\\ncircumvent the difficulties hidden in this counterexample, we exploit some of\\nPedersen\\'s seminal ideas on noncommutative measurable structures and establish\\nan amended version of Arveson\\'s conjecture. More precisely, we show that all\\nirreducible representations of $A$ are boundary representations for $S$\\nprecisely when all representations of $A$ admit a unique \"tight\" completely\\npositive extension from $S$. In addition, we prove an equivalence between\\nuniqueness of such tight extensions and rigidity of completely positive\\napproximations for representations of nuclear $C^*$-algebras, thereby extending\\nthe classical principle of Korovkin--Saskin for commutative algebras.'}, 'authors': [{'name': 'Raphaël Clouâtre'}, {'name': 'Ian Thompson'}], 'author_detail': {'name': 'Ian Thompson'}, 'author': 'Ian Thompson', 'arxiv_comment': '17 pages', 'links': [{'href': 'http://arxiv.org/abs/2406.16806v1', 'rel': 'alternate', 'type': 'text/html'}, {'title': 'pdf', 'href': 'http://arxiv.org/pdf/2406.16806v1', 'rel': 'related', 'type': 'application/pdf'}], 'arxiv_primary_category': {'term': 'math.OA', 'scheme': 'http://arxiv.org/schemas/atom'}, 'tags': [{'term': 'math.OA', 'scheme': 'http://arxiv.org/schemas/atom', 'label': None}, {'term': 'math.FA', 'scheme': 'http://arxiv.org/schemas/atom', 'label': None}]}, {'id': 'http://arxiv.org/abs/2406.16805v1', 'guidislink': True, 'link': 'http://arxiv.org/abs/2406.16805v1', 'updated': '2024-06-24T17:16:51Z', 'updated_parsed': time.struct_time(tm_year=2024, tm_mon=6, tm_mday=24, tm_hour=17, tm_min=16, tm_sec=51, tm_wday=0, tm_yday=176, tm_isdst=0), 'published': '2024-06-24T17:16:51Z', 'published_parsed': time.struct_time(tm_year=2024, tm_mon=6, tm_mday=24, tm_hour=17, tm_min=16, tm_sec=51, tm_wday=0, tm_yday=176, tm_isdst=0), 'title': 'Beyond uniform cyclotomy', 'title_detail': {'type': 'text/plain', 'language': None, 'base': 'http://export.arxiv.org/api/query?search_query=all&max_results=2000&start=0&sortBy=submittedDate&sortOrder=descending', 'value': 'Beyond uniform cyclotomy'}, 'summary': 'Cyclotomy, the study of cyclotomic classes and cyclotomic numbers, is an area\\nof number theory first studied by Gauss. It has natural applications in\\ndiscrete mathematics and information theory. Despite this long history, there\\nare significant limitations to what is known explicitly about cyclotomic\\nnumbers, which limits the use of cyclotomy in applications. The main explicit\\ntool available is that of uniform cyclotomy, introduced by Baumert, Mills and\\nWard in 1982. In this paper, we present an extension of uniform cyclotomy which\\ngives a direct method for evaluating all cyclotomic numbers over $GF(q^n)$ of\\norder dividing $(q^n-1)/(q-1)$, for any prime power $q$ and $n \\\\geq 2$, which\\ndoes not use character theory nor direct calculation in the field. This allows\\nthe straightforward evaluation of many cyclotomic numbers for which other\\nmethods are unknown or impractical. Our methods exploit connections between\\ncyclotomy, Singer difference sets and finite geometry.', 'summary_detail': {'type': 'text/plain', 'language': None, 'base': 'http://export.arxiv.org/api/query?search_query=all&max_results=2000&start=0&sortBy=submittedDate&sortOrder=descending', 'value': 'Cyclotomy, the study of cyclotomic classes and cyclotomic numbers, is an area\\nof number theory first studied by Gauss. It has natural applications in\\ndiscrete mathematics and information theory. Despite this long history, there\\nare significant limitations to what is known explicitly about cyclotomic\\nnumbers, which limits the use of cyclotomy in applications. The main explicit\\ntool available is that of uniform cyclotomy, introduced by Baumert, Mills and\\nWard in 1982. In this paper, we present an extension of uniform cyclotomy which\\ngives a direct method for evaluating all cyclotomic numbers over $GF(q^n)$ of\\norder dividing $(q^n-1)/(q-1)$, for any prime power $q$ and $n \\\\geq 2$, which\\ndoes not use character theory nor direct calculation in the field. This allows\\nthe straightforward evaluation of many cyclotomic numbers for which other\\nmethods are unknown or impractical. Our methods exploit connections between\\ncyclotomy, Singer difference sets and finite geometry.'}, 'authors': [{'name': 'Sophie Huczynska'}, {'name': 'Laura Johnson'}, {'name': 'Maura B. Paterson'}], 'author_detail': {'name': 'Maura B. Paterson'}, 'author': 'Maura B. Paterson', 'links': [{'href': 'http://arxiv.org/abs/2406.16805v1', 'rel': 'alternate', 'type': 'text/html'}, {'title': 'pdf', 'href': 'http://arxiv.org/pdf/2406.16805v1', 'rel': 'related', 'type': 'application/pdf'}], 'arxiv_primary_category': {'term': 'math.NT', 'scheme': 'http://arxiv.org/schemas/atom'}, 'tags': [{'term': 'math.NT', 'scheme': 'http://arxiv.org/schemas/atom', 'label': None}, {'term': 'math.CO', 'scheme': 'http://arxiv.org/schemas/atom', 'label': None}, {'term': '11T22, 05B10', 'scheme': 'http://arxiv.org/schemas/atom', 'label': None}]}, {'id': 'http://arxiv.org/abs/2406.16799v1', 'guidislink': True, 'link': 'http://arxiv.org/abs/2406.16799v1', 'updated': '2024-06-24T17:03:30Z', 'updated_parsed': time.struct_time(tm_year=2024, tm_mon=6, tm_mday=24, tm_hour=17, tm_min=3, tm_sec=30, tm_wday=0, tm_yday=176, tm_isdst=0), 'published': '2024-06-24T17:03:30Z', 'published_parsed': time.struct_time(tm_year=2024, tm_mon=6, tm_mday=24, tm_hour=17, tm_min=3, tm_sec=30, tm_wday=0, tm_yday=176, tm_isdst=0), 'title': 'Correlation functions for the Gross-Neveu model', 'title_detail': {'type': 'text/plain', 'language': None, 'base': 'http://export.arxiv.org/api/query?search_query=all&max_results=2000&start=0&sortBy=submittedDate&sortOrder=descending', 'value': 'Correlation functions for the Gross-Neveu model'}, 'summary': 'This is a non-perturbative treatment of correlation functions for the weakly\\ncoupled massless Gross-Neveu model in a finite volume. The main result is that\\nall correlation functions, treated as distributions, are uniformly bounded in\\nthe ultraviolet cutoff.', 'summary_detail': {'type': 'text/plain', 'language': None, 'base': 'http://export.arxiv.org/api/query?search_query=all&max_results=2000&start=0&sortBy=submittedDate&sortOrder=descending', 'value': 'This is a non-perturbative treatment of correlation functions for the weakly\\ncoupled massless Gross-Neveu model in a finite volume. The main result is that\\nall correlation functions, treated as distributions, are uniformly bounded in\\nthe ultraviolet cutoff.'}, 'authors': [{'name': 'J. Dimock'}], 'author_detail': {'name': 'J. Dimock'}, 'author': 'J. Dimock', 'arxiv_comment': '29 pages', 'links': [{'href': 'http://arxiv.org/abs/2406.16799v1', 'rel': 'alternate', 'type': 'text/html'}, {'title': 'pdf', 'href': 'http://arxiv.org/pdf/2406.16799v1', 'rel': 'related', 'type': 'application/pdf'}], 'arxiv_primary_category': {'term': 'math-ph', 'scheme': 'http://arxiv.org/schemas/atom'}, 'tags': [{'term': 'math-ph', 'scheme': 'http://arxiv.org/schemas/atom', 'label': None}, {'term': 'math.MP', 'scheme': 'http://arxiv.org/schemas/atom', 'label': None}, {'term': '81T08 (primary), 81T16, 81T17 (secondary)', 'scheme': 'http://arxiv.org/schemas/atom', 'label': None}]}, {'id': 'http://arxiv.org/abs/2406.16797v1', 'guidislink': True, 'link': 'http://arxiv.org/abs/2406.16797v1', 'updated': '2024-06-24T16:58:23Z', 'updated_parsed': time.struct_time(tm_year=2024, tm_mon=6, tm_mday=24, tm_hour=16, tm_min=58, tm_sec=23, tm_wday=0, tm_yday=176, tm_isdst=0), 'published': '2024-06-24T16:58:23Z', 'published_parsed': time.struct_time(tm_year=2024, tm_mon=6, tm_mday=24, tm_hour=16, tm_min=58, tm_sec=23, tm_wday=0, tm_yday=176, tm_isdst=0), 'title': 'Lottery Ticket Adaptation: Mitigating Destructive Interference in LLMs', 'title_detail': {'type': 'text/plain', 'language': None, 'base': 'http://export.arxiv.org/api/query?search_query=all&max_results=2000&start=0&sortBy=submittedDate&sortOrder=descending', 'value': 'Lottery Ticket Adaptation: Mitigating Destructive Interference in LLMs'}, 'summary': 'Existing methods for adapting large language models (LLMs) to new tasks are\\nnot suited to multi-task adaptation because they modify all the model weights\\n-- causing destructive interference between tasks. The resulting effects, such\\nas catastrophic forgetting of earlier tasks, make it challenging to obtain good\\nperformance on multiple tasks at the same time. To mitigate this, we propose\\nLottery Ticket Adaptation (LoTA), a sparse adaptation method that identifies\\nand optimizes only a sparse subnetwork of the model. We evaluate LoTA on a wide\\nrange of challenging tasks such as instruction following, reasoning, math, and\\nsummarization. LoTA obtains better performance than full fine-tuning and\\nlow-rank adaptation (LoRA), and maintains good performance even after training\\non other tasks -- thus, avoiding catastrophic forgetting. By extracting and\\nfine-tuning over \\\\emph{lottery tickets} (or \\\\emph{sparse task vectors}), LoTA\\nalso enables model merging over highly dissimilar tasks.', 'summary_detail': {'type': 'text/plain', 'language': None, 'base': 'http://export.arxiv.org/api/query?search_query=all&max_results=2000&start=0&sortBy=submittedDate&sortOrder=descending', 'value': 'Existing methods for adapting large language models (LLMs) to new tasks are\\nnot suited to multi-task adaptation because they modify all the model weights\\n-- causing destructive interference between tasks. The resulting effects, such\\nas catastrophic forgetting of earlier tasks, make it challenging to obtain good\\nperformance on multiple tasks at the same time. To mitigate this, we propose\\nLottery Ticket Adaptation (LoTA), a sparse adaptation method that identifies\\nand optimizes only a sparse subnetwork of the model. We evaluate LoTA on a wide\\nrange of challenging tasks such as instruction following, reasoning, math, and\\nsummarization. LoTA obtains better performance than full fine-tuning and\\nlow-rank adaptation (LoRA), and maintains good performance even after training\\non other tasks -- thus, avoiding catastrophic forgetting. By extracting and\\nfine-tuning over \\\\emph{lottery tickets} (or \\\\emph{sparse task vectors}), LoTA\\nalso enables model merging over highly dissimilar tasks.'}, 'authors': [{'name': 'Ashwinee Panda'}, {'name': 'Berivan Isik'}, {'name': 'Xiangyu Qi'}, {'name': 'Sanmi Koyejo'}, {'name': 'Tsachy Weissman'}, {'name': 'Prateek Mittal'}], 'author_detail': {'name': 'Prateek Mittal'}, 'author': 'Prateek Mittal', 'links': [{'href': 'http://arxiv.org/abs/2406.16797v1', 'rel': 'alternate', 'type': 'text/html'}, {'title': 'pdf', 'href': 'http://arxiv.org/pdf/2406.16797v1', 'rel': 'related', 'type': 'application/pdf'}], 'arxiv_primary_category': {'term': 'cs.CL', 'scheme': 'http://arxiv.org/schemas/atom'}, 'tags': [{'term': 'cs.CL', 'scheme': 'http://arxiv.org/schemas/atom', 'label': None}, {'term': 'cs.AI', 'scheme': 'http://arxiv.org/schemas/atom', 'label': None}]}, {'id': 'http://arxiv.org/abs/2406.16792v1', 'guidislink': True, 'link': 'http://arxiv.org/abs/2406.16792v1', 'updated': '2024-06-24T16:56:22Z', 'updated_parsed': time.struct_time(tm_year=2024, tm_mon=6, tm_mday=24, tm_hour=16, tm_min=56, tm_sec=22, tm_wday=0, tm_yday=176, tm_isdst=0), 'published': '2024-06-24T16:56:22Z', 'published_parsed': time.struct_time(tm_year=2024, tm_mon=6, tm_mday=24, tm_hour=16, tm_min=56, tm_sec=22, tm_wday=0, tm_yday=176, tm_isdst=0), 'title': 'Deep Learning and Chaos: A combined Approach To Image Encryption and\\n  Decryption', 'title_detail': {'type': 'text/plain', 'language': None, 'base': 'http://export.arxiv.org/api/query?search_query=all&max_results=2000&start=0&sortBy=submittedDate&sortOrder=descending', 'value': 'Deep Learning and Chaos: A combined Approach To Image Encryption and\\n  Decryption'}, 'summary': 'In this paper, we introduce a novel image encryption and decryption algorithm\\nusing hyperchaotic signals from the novel 3D hyperchaotic map, 2D memristor\\nmap, Convolutional Neural Network (CNN), and key sensitivity analysis to\\nachieve robust security and high efficiency. The encryption starts with the\\nscrambling of gray images by using a 3D hyperchaotic map to yield complex\\nsequences under disruption of pixel values; the robustness of this original\\nencryption is further reinforced by employing a CNN to learn the intricate\\npatterns and add the safety layer. The robustness of the encryption algorithm\\nis shown by key sensitivity analysis, i.e., the average sensitivity of the\\nalgorithm to key elements. The other factors and systems of unauthorized\\ndecryption, even with slight variations in the keys, can alter the decryption\\nprocedure, resulting in the ineffective recreation of the decrypted image.\\nStatistical analysis includes entropy analysis, correlation analysis, histogram\\nanalysis, and other security analyses like anomaly detection, all of which\\nconfirm the high security and effectiveness of the proposed encryption method.\\nTesting of the algorithm under various noisy conditions is carried out to test\\nrobustness against Gaussian noise. Metrics for differential analysis, such as\\nthe NPCR (Number of Pixel Change Rate)and UACI (Unified Average Change\\nIntensity), are also used to determine the strength of encryption. At the same\\ntime, the empirical validation was performed on several test images, which\\nshowed that the proposed encryption techniques have practical applicability and\\nare robust to noise. Simulation results and comparative analyses illustrate\\nthat our encryption scheme possesses excellent visual security, decryption\\nquality, and computational efficiency, and thus, it is efficient for secure\\nimage transmission and storage in big data applications.', 'summary_detail': {'type': 'text/plain', 'language': None, 'base': 'http://export.arxiv.org/api/query?search_query=all&max_results=2000&start=0&sortBy=submittedDate&sortOrder=descending', 'value': 'In this paper, we introduce a novel image encryption and decryption algorithm\\nusing hyperchaotic signals from the novel 3D hyperchaotic map, 2D memristor\\nmap, Convolutional Neural Network (CNN), and key sensitivity analysis to\\nachieve robust security and high efficiency. The encryption starts with the\\nscrambling of gray images by using a 3D hyperchaotic map to yield complex\\nsequences under disruption of pixel values; the robustness of this original\\nencryption is further reinforced by employing a CNN to learn the intricate\\npatterns and add the safety layer. The robustness of the encryption algorithm\\nis shown by key sensitivity analysis, i.e., the average sensitivity of the\\nalgorithm to key elements. The other factors and systems of unauthorized\\ndecryption, even with slight variations in the keys, can alter the decryption\\nprocedure, resulting in the ineffective recreation of the decrypted image.\\nStatistical analysis includes entropy analysis, correlation analysis, histogram\\nanalysis, and other security analyses like anomaly detection, all of which\\nconfirm the high security and effectiveness of the proposed encryption method.\\nTesting of the algorithm under various noisy conditions is carried out to test\\nrobustness against Gaussian noise. Metrics for differential analysis, such as\\nthe NPCR (Number of Pixel Change Rate)and UACI (Unified Average Change\\nIntensity), are also used to determine the strength of encryption. At the same\\ntime, the empirical validation was performed on several test images, which\\nshowed that the proposed encryption techniques have practical applicability and\\nare robust to noise. Simulation results and comparative analyses illustrate\\nthat our encryption scheme possesses excellent visual security, decryption\\nquality, and computational efficiency, and thus, it is efficient for secure\\nimage transmission and storage in big data applications.'}, 'authors': [{'name': 'Bharath V Nair'}, {'name': 'Vismaya V S'}, {'name': 'Sishu Shankar Muni'}, {'name': 'Ali Durdu'}], 'author_detail': {'name': 'Ali Durdu'}, 'author': 'Ali Durdu', 'links': [{'href': 'http://arxiv.org/abs/2406.16792v1', 'rel': 'alternate', 'type': 'text/html'}, {'title': 'pdf', 'href': 'http://arxiv.org/pdf/2406.16792v1', 'rel': 'related', 'type': 'application/pdf'}], 'arxiv_primary_category': {'term': 'cs.CR', 'scheme': 'http://arxiv.org/schemas/atom'}, 'tags': [{'term': 'cs.CR', 'scheme': 'http://arxiv.org/schemas/atom', 'label': None}, {'term': 'nlin.CD', 'scheme': 'http://arxiv.org/schemas/atom', 'label': None}]}]\n"
     ]
    }
   ],
   "source": [
    "print(feed.entries[0:10])"
   ]
  },
  {
   "cell_type": "code",
   "execution_count": 12,
   "metadata": {},
   "outputs": [],
   "source": [
    "import pandas as pd"
   ]
  },
  {
   "cell_type": "markdown",
   "metadata": {},
   "source": [
    "# Dataframe Initialization"
   ]
  },
  {
   "cell_type": "code",
   "execution_count": 13,
   "metadata": {},
   "outputs": [],
   "source": [
    "df = pd.DataFrame()\n"
   ]
  },
  {
   "cell_type": "markdown",
   "metadata": {},
   "source": [
    "# Deduplication\n",
    "\n",
    "here you can specify older CSV files that may contain papers also found in `feed`"
   ]
  },
  {
   "cell_type": "code",
   "execution_count": null,
   "metadata": {},
   "outputs": [],
   "source": [
    "try:\n",
    "    old1 = pd.read_csv('newpapers1.csv')\n",
    "    old2 = pd.read_csv('newpapers2.csv')\n",
    "except:\n",
    "    old1 = pd.DataFrame()\n",
    "    old2 = pd.DataFrame()"
   ]
  },
  {
   "cell_type": "code",
   "execution_count": 19,
   "metadata": {},
   "outputs": [],
   "source": [
    "list = []\n",
    "\n",
    "for i, e in enumerate(feed.entries):\n",
    "    # deduplication\n",
    "    if ('id' in old1 and (e['id'] in old1['id'].unique())) \\\n",
    "        or ('id' in old2 and (e['id'] in old2['id'].unique())):\n",
    "        continue\n",
    "    one_feed = {}\n",
    "    one_feed['id'] = e.id\n",
    "    one_feed['published'] = e.published\n",
    "    list.append(one_feed)\n",
    "df = pd.DataFrame(list, columns=['id',  'published'])"
   ]
  },
  {
   "cell_type": "markdown",
   "metadata": {},
   "source": [
    "# Check CSV"
   ]
  },
  {
   "cell_type": "code",
   "execution_count": 20,
   "metadata": {},
   "outputs": [
    {
     "name": "stdout",
     "output_type": "stream",
     "text": [
      "                                    id             published\n",
      "0    http://arxiv.org/abs/2406.16867v1  2024-06-24T17:59:59Z\n",
      "1    http://arxiv.org/abs/2406.16859v1  2024-06-24T17:59:33Z\n",
      "2    http://arxiv.org/abs/2406.16853v1  2024-06-24T17:58:13Z\n",
      "3    http://arxiv.org/abs/2406.16832v1  2024-06-24T17:41:37Z\n",
      "4    http://arxiv.org/abs/2406.16820v1  2024-06-24T17:31:31Z\n",
      "..                                 ...                   ...\n",
      "558  http://arxiv.org/abs/2406.04027v2  2024-06-06T12:55:50Z\n",
      "559  http://arxiv.org/abs/2406.03716v2  2024-06-06T03:24:32Z\n",
      "560  http://arxiv.org/abs/2406.03689v2  2024-06-06T02:20:31Z\n",
      "561  http://arxiv.org/abs/2406.12893v1  2024-06-05T12:56:45Z\n",
      "562  http://arxiv.org/abs/2406.01763v4  2024-06-03T20:09:46Z\n",
      "\n",
      "[563 rows x 2 columns]\n"
     ]
    }
   ],
   "source": [
    "print(df)"
   ]
  },
  {
   "cell_type": "markdown",
   "metadata": {},
   "source": [
    "# Save CSV"
   ]
  },
  {
   "cell_type": "code",
   "execution_count": 21,
   "metadata": {},
   "outputs": [],
   "source": [
    "df.to_csv(\"newpapers3.csv\")"
   ]
  },
  {
   "cell_type": "code",
   "execution_count": 36,
   "metadata": {},
   "outputs": [
    {
     "data": {
      "text/plain": [
       "0      http://arxiv.org/abs/2402.09405v1\n",
       "1      http://arxiv.org/abs/2402.09402v1\n",
       "2      http://arxiv.org/abs/2402.09401v1\n",
       "3      http://arxiv.org/abs/2402.09398v1\n",
       "4      http://arxiv.org/abs/2402.09395v1\n",
       "                     ...                \n",
       "995    http://arxiv.org/abs/2402.02217v1\n",
       "996    http://arxiv.org/abs/2402.02209v2\n",
       "997    http://arxiv.org/abs/2402.02200v1\n",
       "998    http://arxiv.org/abs/2402.02195v1\n",
       "999    http://arxiv.org/abs/2402.02178v1\n",
       "Name: id, Length: 1000, dtype: object"
      ]
     },
     "execution_count": 36,
     "metadata": {},
     "output_type": "execute_result"
    }
   ],
   "source": [
    "df[\"id\"]"
   ]
  }
 ],
 "metadata": {
  "kernelspec": {
   "display_name": "nougat",
   "language": "python",
   "name": "python3"
  },
  "language_info": {
   "codemirror_mode": {
    "name": "ipython",
    "version": 3
   },
   "file_extension": ".py",
   "mimetype": "text/x-python",
   "name": "python",
   "nbconvert_exporter": "python",
   "pygments_lexer": "ipython3",
   "version": "3.10.13"
  }
 },
 "nbformat": 4,
 "nbformat_minor": 2
}
