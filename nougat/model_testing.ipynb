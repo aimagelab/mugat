{
 "cells": [
  {
   "cell_type": "code",
   "execution_count": null,
   "metadata": {},
   "outputs": [],
   "source": [
    "import model_adapted as model\n",
    "import torch"
   ]
  },
  {
   "cell_type": "code",
   "execution_count": 2,
   "metadata": {},
   "outputs": [
    {
     "name": "stderr",
     "output_type": "stream",
     "text": [
      "/home/carmine/.conda/envs/nougat/lib/python3.9/site-packages/torch/_utils.py:831: UserWarning: TypedStorage is deprecated. It will be removed in the future and UntypedStorage will be the only storage class. This should only matter to you if you are using storages directly.  To access UntypedStorage directly, use tensor.untyped_storage() instead of tensor.storage()\n",
      "  return self.fget.__get__(instance, owner)()\n"
     ]
    }
   ],
   "source": [
    "input = torch.randn(1, 3, 896, 672).cuda()\n",
    "prev_input = torch.randn(1, 3, 896, 672).cuda()\n",
    "next_input = torch.randn(1, 3, 896, 672).cuda()\n",
    "conf = model.NougatConfig()\n",
    "mod = model.NougatModel(conf).cuda()\n"
   ]
  },
  {
   "cell_type": "code",
   "execution_count": 3,
   "metadata": {},
   "outputs": [
    {
     "name": "stderr",
     "output_type": "stream",
     "text": [
      "WARNING:root:running encoder\n",
      "WARNING:root:running encoder prev\n",
      "WARNING:root:ENCODER OUTPUTS:\n",
      "WARNING:root:torch.Size([1, 588, 1024])\n",
      "WARNING:root:ADAPTER OUTPUTS:\n",
      "WARNING:root:torch.Size([1, 2, 1024])\n"
     ]
    }
   ],
   "source": [
    "output = mod.inference(\n",
    "        image_tensors=input,\n",
    "        early_stopping=False,\n",
    "        prev_image_tensors=prev_input, \n",
    "        next_image_tensors=next_input\n",
    "    )\n",
    "\n"
   ]
  }
 ],
 "metadata": {
  "kernelspec": {
   "display_name": "nougat",
   "language": "python",
   "name": "python3"
  },
  "language_info": {
   "codemirror_mode": {
    "name": "ipython",
    "version": 3
   },
   "file_extension": ".py",
   "mimetype": "text/x-python",
   "name": "python",
   "nbconvert_exporter": "python",
   "pygments_lexer": "ipython3",
   "version": "3.9.17"
  }
 },
 "nbformat": 4,
 "nbformat_minor": 2
}
